{
  "nbformat": 4,
  "nbformat_minor": 0,
  "metadata": {
    "colab": {
      "provenance": [],
      "authorship_tag": "ABX9TyPnOhcp39l4Wc/WxVvqKHNr",
      "include_colab_link": true
    },
    "kernelspec": {
      "name": "python3",
      "display_name": "Python 3"
    },
    "language_info": {
      "name": "python"
    }
  },
  "cells": [
    {
      "cell_type": "markdown",
      "metadata": {
        "id": "view-in-github",
        "colab_type": "text"
      },
      "source": [
        "<a href=\"https://colab.research.google.com/github/rikiulirniam/AlgoritmaPemrograman/blob/main/Jobsheet_05_Algopro.ipynb\" target=\"_parent\"><img src=\"https://colab.research.google.com/assets/colab-badge.svg\" alt=\"Open In Colab\"/></a>"
      ]
    },
    {
      "cell_type": "markdown",
      "source": [
        "# Praktikum\n"
      ],
      "metadata": {
        "id": "pg6axRS5oY6E"
      }
    },
    {
      "cell_type": "markdown",
      "source": [
        "## Praktikum 01 – Indexing dan Slicing"
      ],
      "metadata": {
        "id": "JBrmhW1i9Cci"
      }
    },
    {
      "cell_type": "code",
      "source": [
        "teks = \"Politeknik Negeri Semarang\"\n",
        "print(teks[0])\n",
        "print(teks[0:11])\n",
        "print(teks[-8:])\n"
      ],
      "metadata": {
        "colab": {
          "base_uri": "https://localhost:8080/"
        },
        "id": "4fdBqpMf9HnA",
        "outputId": "50aa63ec-2e36-4b6d-aedf-e7d74bf05b54"
      },
      "execution_count": 1,
      "outputs": [
        {
          "output_type": "stream",
          "name": "stdout",
          "text": [
            "P\n",
            "Politeknik \n",
            "Semarang\n"
          ]
        }
      ]
    },
    {
      "cell_type": "markdown",
      "source": [],
      "metadata": {
        "id": "HSVrFmPS9EiS"
      }
    },
    {
      "cell_type": "markdown",
      "source": [
        "## Praktikum 02 – Method Bawaan String"
      ],
      "metadata": {
        "id": "GIczKZYd9JMJ"
      }
    },
    {
      "cell_type": "code",
      "source": [
        "teks = \" Politeknik Negeri Semarang \"\n",
        "print(teks.upper())\n",
        "print(teks.lower())\n",
        "print(teks.title())\n",
        "print(teks.strip())\n",
        "print(teks.split(\" \"))\n",
        "print(\"-\".join([\"Politeknik\",\"Negeri\",\"Semarang\"]))\n",
        "\n"
      ],
      "metadata": {
        "colab": {
          "base_uri": "https://localhost:8080/"
        },
        "id": "pRZG-AW39MsB",
        "outputId": "28e8b81d-2f91-4701-c1e7-5367fc99a0b8"
      },
      "execution_count": 2,
      "outputs": [
        {
          "output_type": "stream",
          "name": "stdout",
          "text": [
            " POLITEKNIK NEGERI SEMARANG \n",
            " politeknik negeri semarang \n",
            " Politeknik Negeri Semarang \n",
            "Politeknik Negeri Semarang\n",
            "['', 'Politeknik', 'Negeri', 'Semarang', '']\n",
            "Politeknik-Negeri-Semarang\n"
          ]
        }
      ]
    },
    {
      "cell_type": "markdown",
      "source": [
        "## Praktikum 03 – Validasi Password"
      ],
      "metadata": {
        "id": "-oPo3W5O9QrR"
      }
    },
    {
      "cell_type": "code",
      "source": [
        "password = input(\"Masukkan password: \")\n",
        "if len(password) >= 8:\n",
        "    print(\"Password valid\")\n",
        "else:\n",
        "    print(\"Password terlalu pendek\")\n"
      ],
      "metadata": {
        "colab": {
          "base_uri": "https://localhost:8080/"
        },
        "id": "A22Rrf2r9cjK",
        "outputId": "495c180c-e866-423c-80bb-a0a6a8f4045f"
      },
      "execution_count": 2,
      "outputs": [
        {
          "output_type": "stream",
          "name": "stdout",
          "text": [
            "Masukkan password: abc\n",
            "Password terlalu pendek\n"
          ]
        }
      ]
    },
    {
      "cell_type": "markdown",
      "source": [
        "## Praktikum 04 – String Formatting dengan F-String"
      ],
      "metadata": {
        "id": "rr8Hnx3l9gE5"
      }
    },
    {
      "cell_type": "code",
      "source": [
        "nama = input(\"Masukkan nama: \")\n",
        "umur = int(input(\"Masukkan umur: \"))\n",
        "print(f\"Nama saya {nama}, umur {umur} tahun.\")\n"
      ],
      "metadata": {
        "colab": {
          "base_uri": "https://localhost:8080/"
        },
        "id": "nwU9mPOL9hLC",
        "outputId": "a3833238-3f56-4b06-9397-add9fb40f44c"
      },
      "execution_count": 3,
      "outputs": [
        {
          "output_type": "stream",
          "name": "stdout",
          "text": [
            "Masukkan nama: Budi\n",
            "Masukkan umur: 21\n",
            "Nama saya Budi, umur 21 tahun.\n"
          ]
        }
      ]
    },
    {
      "cell_type": "markdown",
      "source": [
        "## Praktikum 05 – Operasi dalam F-String"
      ],
      "metadata": {
        "id": "-pikUI8W9j44"
      }
    },
    {
      "cell_type": "code",
      "source": [
        "a = int(input(\"Masukkan nilai a: \"))\n",
        "b = int(input(\"Masukkan nilai b: \"))\n",
        "print(f\"Hasil penjumlahan {a}+{b} = {a+b}\")\n",
        "print(f\"Hasil pembagian {a}/{b} = {a/b:.2f}\")\n"
      ],
      "metadata": {
        "colab": {
          "base_uri": "https://localhost:8080/"
        },
        "id": "XsiEzy5d9ma7",
        "outputId": "9672c3bd-d0a5-4246-ff7b-face2409296b"
      },
      "execution_count": 4,
      "outputs": [
        {
          "output_type": "stream",
          "name": "stdout",
          "text": [
            "Masukkan nilai a: 10\n",
            "Masukkan nilai b: 3\n",
            "Hasil penjumlahan 10+3 = 13\n",
            "Hasil pembagian 10/3 = 3.33\n"
          ]
        }
      ]
    },
    {
      "cell_type": "markdown",
      "source": [
        "## Praktikum 06 – Casting String"
      ],
      "metadata": {
        "id": "NH_OMkRz9p7h"
      }
    },
    {
      "cell_type": "code",
      "source": [
        "angka = 123\n",
        "teks = \"456\"\n",
        "print(\"Nilai: \" + str(angka))\n",
        "print(int(teks) + 10)\n"
      ],
      "metadata": {
        "colab": {
          "base_uri": "https://localhost:8080/"
        },
        "id": "KuAeYkMz9r1w",
        "outputId": "b65cfdc8-d0b4-4897-db34-ecd98a73eec7"
      },
      "execution_count": 10,
      "outputs": [
        {
          "output_type": "stream",
          "name": "stdout",
          "text": [
            "Nilai: 123\n",
            "466\n"
          ]
        }
      ]
    },
    {
      "cell_type": "markdown",
      "source": [
        "## Praktikum 07 – Studi Kasus Nyata: Analisis Kalimat"
      ],
      "metadata": {
        "id": "xrWrmXfp9uVK"
      }
    },
    {
      "cell_type": "code",
      "source": [
        "kalimat = \"Saya kuliah di Politeknik Negeri Semarang\"\n",
        "daftar_kata = kalimat.split(\" \")\n",
        "print(f\"Jumlah kata: {len(daftar_kata)}\")\n",
        "for i, kata in enumerate(daftar_kata, start=1):\n",
        "    print(i, kata)\n"
      ],
      "metadata": {
        "colab": {
          "base_uri": "https://localhost:8080/"
        },
        "id": "TbZbEIeZ9xJq",
        "outputId": "4e6d21e3-8662-4051-ad14-a7d411079b87"
      },
      "execution_count": 11,
      "outputs": [
        {
          "output_type": "stream",
          "name": "stdout",
          "text": [
            "Jumlah kata: 6\n",
            "1 Saya\n",
            "2 kuliah\n",
            "3 di\n",
            "4 Politeknik\n",
            "5 Negeri\n",
            "6 Semarang\n"
          ]
        }
      ]
    },
    {
      "cell_type": "markdown",
      "source": [
        "# Penugasan\n"
      ],
      "metadata": {
        "id": "xHAZ4kOzpBqf"
      }
    },
    {
      "cell_type": "markdown",
      "source": [
        "## Indexing dan Slicing"
      ],
      "metadata": {
        "id": "vEa0tLlRpFA-"
      }
    },
    {
      "cell_type": "code",
      "source": [
        "n = \"Politeknik Negeri Semarang\"\n",
        "print(n[0])\n",
        "print(n[-1:])\n",
        "print(n[11:17])"
      ],
      "metadata": {
        "colab": {
          "base_uri": "https://localhost:8080/"
        },
        "id": "p3muYcRcpIGh",
        "outputId": "8795cb6a-3211-49ee-f44d-61a339835608"
      },
      "execution_count": 16,
      "outputs": [
        {
          "output_type": "stream",
          "name": "stdout",
          "text": [
            "P\n",
            "g\n",
            "Negeri\n"
          ]
        }
      ]
    },
    {
      "cell_type": "markdown",
      "source": [
        "## Manipulasi String"
      ],
      "metadata": {
        "id": "igx8gLFopDhR"
      }
    },
    {
      "cell_type": "code",
      "source": [
        "n = str(input(\"Masukkan kalimat : \"))\n",
        "print(f\"\"\"\n",
        "    {n.upper()}\n",
        "    {n.lower()}\n",
        "    {len(n.split())}\n",
        "\"\"\")"
      ],
      "metadata": {
        "colab": {
          "base_uri": "https://localhost:8080/"
        },
        "id": "tv2LOWeLqBUN",
        "outputId": "eede0364-9da9-44b1-90f6-44ee99aa8201"
      },
      "execution_count": 19,
      "outputs": [
        {
          "output_type": "stream",
          "name": "stdout",
          "text": [
            "riki ulir niam\n",
            "\n",
            "    RIKI ULIR NIAM\n",
            "    riki ulir niam\n",
            "    3\n",
            "\n"
          ]
        }
      ]
    },
    {
      "cell_type": "markdown",
      "source": [
        "## Validasi Username"
      ],
      "metadata": {
        "id": "kQvrDKZRrCGn"
      }
    },
    {
      "cell_type": "code",
      "source": [
        "usn = str(input(\"Masukkan username : \"))\n",
        "if len(usn.split()) > 1:\n",
        "    print(\"Username tidak valid\")\n",
        "else:\n",
        "    print(\"Username valid\")\n"
      ],
      "metadata": {
        "colab": {
          "base_uri": "https://localhost:8080/"
        },
        "id": "_wIc12zYrNJW",
        "outputId": "bc4c0cf8-78cf-49c3-f638-fde9b37a2c6d"
      },
      "execution_count": 21,
      "outputs": [
        {
          "output_type": "stream",
          "name": "stdout",
          "text": [
            "Masukkan username : rikiulir\n",
            "Username valid\n"
          ]
        }
      ]
    },
    {
      "cell_type": "markdown",
      "source": [
        "## String Formatting dengan F-String"
      ],
      "metadata": {
        "id": "lxjJOz5brr2o"
      }
    },
    {
      "cell_type": "code",
      "source": [
        "nama = str(input(\"Masukkan nama : \"))\n",
        "umur = int(input(\"Masukkan umur : \"))\n",
        "jurusan = str(input(\"Masukkan jurusan : \"))\n",
        "print(f\"\"\"\n",
        "    Nama: {nama}\n",
        "    Umur: {umur}\n",
        "    Jurusan: {jurusan}\n",
        "\"\"\")\n"
      ],
      "metadata": {
        "colab": {
          "base_uri": "https://localhost:8080/"
        },
        "id": "jXIHbfVLrrc4",
        "outputId": "1962d77b-231f-4935-8fef-ba3bcdc98ff1"
      },
      "execution_count": 24,
      "outputs": [
        {
          "output_type": "stream",
          "name": "stdout",
          "text": [
            "Masukkan nama : Riki\n",
            "Masukkan umur : 18\n",
            "Masukkan jurusan : Teknologi rekayasa Komputer\n",
            "\n",
            "    Nama: Riki\n",
            "    Umur: 18\n",
            "    Jurusan: Teknologi rekayasa Komputer\n",
            "\n"
          ]
        }
      ]
    },
    {
      "cell_type": "markdown",
      "source": [
        "## Operasi dalam F-String"
      ],
      "metadata": {
        "id": "fCt6IuAxs81P"
      }
    },
    {
      "cell_type": "code",
      "source": [
        "a = int(input(\"Masukkan nilai a: \"))\n",
        "b = int(input(\"Masukkan nilai b: \"))\n",
        "print(f\"Hasil penjumlahan {a}+{b} = {a+b}\")\n",
        "print(f\"Hasil perkalian {a}x{b} = {a*b}\")\n",
        "print(f\"Hasil pembagian {a}/{b} = {a/b:.3f}\")"
      ],
      "metadata": {
        "colab": {
          "base_uri": "https://localhost:8080/"
        },
        "id": "GcyByxCZsiHy",
        "outputId": "fc24cb13-3431-4979-e55f-1f8389d1e6d3"
      },
      "execution_count": 26,
      "outputs": [
        {
          "output_type": "stream",
          "name": "stdout",
          "text": [
            "Masukkan nilai a: 34\n",
            "Masukkan nilai b: 6\n",
            "Hasil penjumlahan 34+6 = 40\n",
            "Hasil perkalian 34x6 = 204\n",
            "Hasil pembagian 34/6 = 5.667\n"
          ]
        }
      ]
    },
    {
      "cell_type": "markdown",
      "source": [
        "## Casting Data"
      ],
      "metadata": {
        "id": "mmjVTjfgtlJ4"
      }
    },
    {
      "cell_type": "code",
      "source": [
        "import math\n",
        "\n",
        "angka = float(input(\"Masukkan angka : \"))\n",
        "kuadrated =float(math.sqrt(angka))\n",
        "print(f\"{kuadrated:.2f}\")"
      ],
      "metadata": {
        "colab": {
          "base_uri": "https://localhost:8080/"
        },
        "id": "Oq2t1yu5tnF-",
        "outputId": "f9b51002-c1f1-418a-ea58-471d0ce2cfa7"
      },
      "execution_count": 15,
      "outputs": [
        {
          "output_type": "stream",
          "name": "stdout",
          "text": [
            "Masukkan angka : 4\n",
            "2.00\n"
          ]
        }
      ]
    },
    {
      "cell_type": "markdown",
      "source": [
        "## Studi Kasus – Analisis Teks"
      ],
      "metadata": {
        "id": "QJqxXIZI6H2K"
      }
    },
    {
      "cell_type": "code",
      "source": [
        "kalimat = input(\"Masukkan sebuah kalimat: \")\n",
        "\n",
        "daftar_kata = kalimat.split()\n",
        "\n",
        "if not daftar_kata:\n",
        "    print(\"Anda tidak memasukkan kata apapun.\")\n",
        "else:\n",
        "    print(\"\\n--- Hasil Analisis Teks ---\")\n",
        "\n",
        "\n",
        "    jumlah_kata = len(daftar_kata)\n",
        "    print(f\"1. Jumlah Kata: {jumlah_kata}\")\n",
        "    kata_terpanjang = max(daftar_kata, key=len)\n",
        "    print(f\"2. Kata Terpanjang: {kata_terpanjang}\")\n",
        "    kata_urutan_abjad = sorted(daftar_kata, key=str.lower)\n",
        "    print(f\"3. Urutan Abjad: {kata_urutan_abjad}\")"
      ],
      "metadata": {
        "colab": {
          "base_uri": "https://localhost:8080/"
        },
        "id": "VwRuq6Io6LFO",
        "outputId": "dc56aa73-bae4-4275-fd20-127205cbb004"
      },
      "execution_count": 16,
      "outputs": [
        {
          "output_type": "stream",
          "name": "stdout",
          "text": [
            "Masukkan sebuah kalimat: Aku ingin menjadi seorang inventor\n",
            "\n",
            "--- Hasil Analisis Teks ---\n",
            "1. Jumlah Kata: 5\n",
            "2. Kata Terpanjang: inventor\n",
            "3. Urutan Abjad: ['Aku', 'ingin', 'inventor', 'menjadi', 'seorang']\n"
          ]
        }
      ]
    }
  ]
}