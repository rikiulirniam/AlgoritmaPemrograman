{
  "nbformat": 4,
  "nbformat_minor": 0,
  "metadata": {
    "colab": {
      "provenance": [],
      "authorship_tag": "ABX9TyM9NL4dAUGU8YdumdXUFMhQ",
      "include_colab_link": true
    },
    "kernelspec": {
      "name": "python3",
      "display_name": "Python 3"
    },
    "language_info": {
      "name": "python"
    }
  },
  "cells": [
    {
      "cell_type": "markdown",
      "metadata": {
        "id": "view-in-github",
        "colab_type": "text"
      },
      "source": [
        "<a href=\"https://colab.research.google.com/github/rikiulirniam/AlgoritmaPemrograman/blob/main/Jobsheet_02_Algopro.ipynb\" target=\"_parent\"><img src=\"https://colab.research.google.com/assets/colab-badge.svg\" alt=\"Open In Colab\"/></a>"
      ]
    },
    {
      "cell_type": "markdown",
      "source": [
        "# Praktikum 01 – Pengenalan Variabel dan Tipe Data\n"
      ],
      "metadata": {
        "id": "YzlpEWK6D4M9"
      }
    },
    {
      "cell_type": "code",
      "execution_count": 2,
      "metadata": {
        "colab": {
          "base_uri": "https://localhost:8080/"
        },
        "id": "my4fghgV8TxL",
        "outputId": "9fcd3fe0-182d-4e36-dd24-cd76c7004fd4"
      },
      "outputs": [
        {
          "output_type": "stream",
          "name": "stdout",
          "text": [
            "Umur : 18 > <class 'int'> \n",
            "Tinggi: 163.4 > <class 'float'> \n",
            "Nama: Riki > <class 'str'>\n",
            "Status Mahasiswa: True > <class 'bool'>\n",
            "Nilai: [80, 85, 90] > <class 'list'>\n",
            "Koordinat: (56, -456) > <class 'tuple'>\n",
            "Data Mahasiswa: {'nama': 'Andi', 'umur': 20, 'prodi': 'TRK'} → <class 'dict'>\n",
            "Hobi: {'olahraga', 'membaca', 'musik'} → <class 'set'>\n"
          ]
        }
      ],
      "source": [
        "#Integer\n",
        "umur = 18\n",
        "print(f\"Umur : {umur} > {type(umur)} \" )\n",
        "# Float\n",
        "tinggi = 163.4\n",
        "print(f\"Tinggi: {tinggi} > {type(tinggi)} \")\n",
        "# String\n",
        "nama = \"Riki\"\n",
        "print(f\"Nama: {nama} > {type(nama)}\")\n",
        "# Boolean\n",
        "is_mahasiswa = True\n",
        "print(f\"Status Mahasiswa: {is_mahasiswa} > {type(is_mahasiswa)}\")\n",
        "# List\n",
        "nilai = [80, 85, 90]\n",
        "print(f\"Nilai: {nilai} > {type(nilai )}\")\n",
        "# Tuple\n",
        "koordinat = (56, -456)\n",
        "print(f\"Koordinat: {koordinat} > {type(koordinat)}\")\n",
        "# Dictionary\n",
        "mahasiswa = {\"nama\": \"Andi\", \"umur\": 20, \"prodi\": \"TRK\"}\n",
        "print(f\"Data Mahasiswa:\", mahasiswa, \"→\", type(mahasiswa))\n",
        "# Set\n",
        "hobi = {\"membaca\", \"olahraga\", \"musik\"}\n",
        "print(f\"Hobi:\", hobi, \"→\", type(hobi))"
      ]
    },
    {
      "cell_type": "markdown",
      "source": [
        "# Praktikum 02 – Input dan Output Dasar\n"
      ],
      "metadata": {
        "id": "ypSTox8ID22L"
      }
    },
    {
      "cell_type": "code",
      "source": [
        " # Input string\n",
        " nama = input(\"Masukkan nama Anda: \")\n",
        "\n",
        " # Input integer\n",
        " umur = int(input(\"Masukkan umur Anda: \"))\n",
        "\n",
        " # Input float\n",
        " tinggi = float(input(\"Masukkan tinggi badan (cm): \"))\n",
        "\n",
        " # Output standar\n",
        " print(\"Halo,\", nama, \"umur Anda:\", umur, \"tahun, tinggi:\", tinggi, \"cm\")\n",
        "\n",
        " # Output dengan format()\n",
        " print(\"Halo {0}, umur Anda {1} tahun, tinggi {2} cm\".format(nama, umur, tinggi))\n",
        "\n",
        " # Output dengan f-string\n",
        " print(f\"Halo {nama}, umur Anda {umur} tahun, tinggi {tinggi} cm\")"
      ],
      "metadata": {
        "colab": {
          "base_uri": "https://localhost:8080/"
        },
        "id": "gUTJLy5tJQaU",
        "outputId": "cbae7ea8-9abe-4949-9dc4-25ade906c0ed"
      },
      "execution_count": 3,
      "outputs": [
        {
          "output_type": "stream",
          "name": "stdout",
          "text": [
            "Masukkan nama Anda: Riki\n",
            "Masukkan umur Anda: 18\n",
            "Masukkan tinggi badan (cm): 164\n",
            "Halo, Riki umur Anda: 18 tahun, tinggi: 164.0 cm\n",
            "Halo Riki, umur Anda 18 tahun, tinggi 164.0 cm\n",
            "Halo Riki, umur Anda 18 tahun, tinggi 164.0 cm\n"
          ]
        }
      ]
    },
    {
      "cell_type": "markdown",
      "source": [
        "# Praktikum 03 – Operator Aritmatika\n"
      ],
      "metadata": {
        "id": "946HT--LIH_C"
      }
    },
    {
      "cell_type": "code",
      "source": [
        " a = 29\n",
        " b = 5\n",
        "\n",
        " print(\"a + b =\", a + b)\n",
        " print(\"a - b =\", a - b)\n",
        " print(\"a * b =\", a * b)\n",
        " print(\"a / b =\", a / b)\n",
        " print(\"a // b =\", a // b)\n",
        " print(\"a % b =\", a % b)\n",
        " print(\"a ** b =\", a ** b)"
      ],
      "metadata": {
        "colab": {
          "base_uri": "https://localhost:8080/"
        },
        "id": "5vUyRMclNGlN",
        "outputId": "af8c4e30-d1c9-4fb9-af3a-fed5ec71b113"
      },
      "execution_count": 4,
      "outputs": [
        {
          "output_type": "stream",
          "name": "stdout",
          "text": [
            "a + b = 34\n",
            "a - b = 24\n",
            "a * b = 145\n",
            "a / b = 5.8\n",
            "a // b = 5\n",
            "a % b = 4\n",
            "a ** b = 20511149\n"
          ]
        }
      ]
    },
    {
      "cell_type": "markdown",
      "source": [],
      "metadata": {
        "id": "6iE2tkn_IKI6"
      }
    },
    {
      "cell_type": "markdown",
      "source": [
        "# Praktikum 04 – Operator Relasional\n"
      ],
      "metadata": {
        "id": "tQ5POg5lILAR"
      }
    },
    {
      "cell_type": "code",
      "source": [
        "x = 12\n",
        "y = 23\n",
        "print(\"x == y :\", x == y)\n",
        "print(\"x != y :\", x != y)\n",
        "print(\"x < y :\", x < y)\n",
        "print(\"x > y :\", x > y)\n",
        "print(\"x <= y :\", x <= y)\n",
        "print(\"x >= y :\", x >= y)"
      ],
      "metadata": {
        "colab": {
          "base_uri": "https://localhost:8080/"
        },
        "id": "cNM7tGYgNYCa",
        "outputId": "5fdf78b7-feec-4848-9fdb-270775ec9dad"
      },
      "execution_count": 5,
      "outputs": [
        {
          "output_type": "stream",
          "name": "stdout",
          "text": [
            "x == y : False\n",
            "x != y : True\n",
            "x < y : True\n",
            "x > y : False\n",
            "x <= y : True\n",
            "x >= y : False\n"
          ]
        }
      ]
    },
    {
      "cell_type": "markdown",
      "source": [
        "# Praktikum 05 – Operator Logika dengan Studi Kasus Nyata\n"
      ],
      "metadata": {
        "id": "Nc_wCszrINEJ"
      }
    },
    {
      "cell_type": "code",
      "source": [
        "# Operator logika dasar\n",
        "a = True\n",
        "b = False\n",
        "\n",
        "print(\"a and b =\", a and b)\n",
        "print(\"a or b =\", a or b)\n",
        "print(\"not a =\", not a)\n",
        "\n",
        "# Studi kasus nyata: kelulusan\n",
        "nilai = int(input(\"Masukkan nilai ujian: \"))\n",
        "hadir = int(input(\"Masukkan jumlah kehadiran: \"))\n",
        "\n",
        "lulus_nilai = nilai >= 60\n",
        "lulus_hadir = hadir >= 22\n",
        "\n",
        "if lulus_nilai and lulus_hadir:\n",
        "  print(\"Status: LULUS\")\n",
        "else:\n",
        "  print(\"Status: TIDAK LULUS\")"
      ],
      "metadata": {
        "colab": {
          "base_uri": "https://localhost:8080/"
        },
        "id": "wyKDP92vNinq",
        "outputId": "23210140-e261-4330-9d02-c3cbee4583d9"
      },
      "execution_count": 8,
      "outputs": [
        {
          "output_type": "stream",
          "name": "stdout",
          "text": [
            "a and b = False\n",
            "a or b = True\n",
            "not a = False\n",
            "Masukkan nilai ujian: 56\n",
            "Masukkan jumlah kehadiran: 23\n",
            "Status: TIDAK LULUS\n"
          ]
        }
      ]
    },
    {
      "cell_type": "markdown",
      "source": [
        "# Praktikum 06 – Program Kasir Sederhana\n"
      ],
      "metadata": {
        "id": "Aaes917_IPvF"
      }
    },
    {
      "cell_type": "code",
      "source": [
        "barang = input(\"Masukkan nama barang: \")\n",
        "harga = float(input(\"Masukkan harga barang: \"))\n",
        "jumlah = int(input(\"Masukkan jumlah barang: \"))\n",
        "\n",
        "total = harga * jumlah\n",
        "\n",
        "# Aturan diskon\n",
        "if total >= 500000:\n",
        "  diskon = 0.2\n",
        "elif total >= 250000:\n",
        "  diskon = 0.1\n",
        "else:\n",
        "  diskon = 0\n",
        "\n",
        "potongan = total * diskon\n",
        "bayar = total - potongan\n",
        "\n",
        "print(\"\\n===== Struk Belanja =====\")\n",
        "print(f\"Barang : {barang}\")\n",
        "print(f\"Jumlah : {jumlah}\")\n",
        "print(f\"Total : Rp {total}\")\n",
        "print(f\"Diskon : {diskon * 100}%\")\n",
        "print(f\"Bayar : Rp {bayar}\")\n"
      ],
      "metadata": {
        "colab": {
          "base_uri": "https://localhost:8080/"
        },
        "id": "gNW5bbwEISvj",
        "outputId": "f1df9efc-4b51-4015-88f1-f744d2c3ef38"
      },
      "execution_count": 10,
      "outputs": [
        {
          "output_type": "stream",
          "name": "stdout",
          "text": [
            "Masukkan nama barang: Keyboard Mechanical\n",
            "Masukkan harga barang: 760000\n",
            "Masukkan jumlah barang: 2\n",
            "\n",
            "===== Struk Belanja =====\n",
            "Barang : Keyboard Mechanical\n",
            "Jumlah : 2\n",
            "Total : Rp 1520000.0\n",
            "Diskon : 20.0%\n",
            "Bayar : Rp 1216000.0\n"
          ]
        }
      ]
    },
    {
      "cell_type": "markdown",
      "source": [
        "\n",
        "\n",
        "---\n",
        "\n"
      ],
      "metadata": {
        "id": "e_qzy9sraCOQ"
      }
    },
    {
      "cell_type": "markdown",
      "source": [
        "# Penugasan 3 - Identitas Mahasiswa"
      ],
      "metadata": {
        "id": "EEK4qPjuaFnB"
      }
    },
    {
      "cell_type": "code",
      "source": [
        "nama = \"Riki\"\n",
        "umur = 18\n",
        "tinggi = 164.6\n",
        "status_aktif = True\n",
        "\n",
        "print(f\"Haii saya {nama}, pemuda berusia {umur} tahun dengan tinggi badan {tinggi}cm. Status mahasiswa aktif saya sekarang adalah {status_aktif} \")"
      ],
      "metadata": {
        "colab": {
          "base_uri": "https://localhost:8080/"
        },
        "id": "UGHcg8hRbpEh",
        "outputId": "9be2c43a-edb7-4c1d-d86a-9b077c650d66"
      },
      "execution_count": 11,
      "outputs": [
        {
          "output_type": "stream",
          "name": "stdout",
          "text": [
            "Haii saya Riki, pemuda berusia 18 tahun dengan tinggi badan 164.6cm. Status mahasiswa aktif saya sekarang adalah True \n"
          ]
        }
      ]
    },
    {
      "cell_type": "markdown",
      "source": [
        "# Penugasan 4 - Operasi Aritmatika"
      ],
      "metadata": {
        "id": "os1iIFcwbFBI"
      }
    },
    {
      "cell_type": "code",
      "source": [
        "n = (63, 25)\n",
        "print(f\" + {n[0] + n[1]}\")\n",
        "print(f\" - {n[0] - n[1]}\")\n",
        "print(f\" * {n[0] * n[1]}\")\n",
        "print(f\" / {n[0] / n[1]}\")\n",
        "print(f\" % {n[0] % n[1]}\")\n",
        "print(f\" ** {n[0] ** n[1]}\")\n"
      ],
      "metadata": {
        "colab": {
          "base_uri": "https://localhost:8080/"
        },
        "id": "j3KJ8QZpeCQC",
        "outputId": "1d3af54c-a5da-4832-d54c-70b1edad7168"
      },
      "execution_count": 13,
      "outputs": [
        {
          "output_type": "stream",
          "name": "stdout",
          "text": [
            " + 88\n",
            " - 38\n",
            " * 1575\n",
            " / 2.52\n",
            " % 13\n",
            " ** 962750463413450814961058545701035539397690943\n"
          ]
        }
      ]
    },
    {
      "cell_type": "markdown",
      "source": [
        "# Penugasan 5 - Konversi Nilai"
      ],
      "metadata": {
        "id": "U59Ck-rYbJu_"
      }
    },
    {
      "cell_type": "code",
      "source": [
        "nilai = float(input(\"Masukkan nilai decimal (170.21) : \"))\n",
        "print(f\" (int) {int(nilai)},\\n (str) {str(nilai)},\\n (round) {round(nilai)}\")"
      ],
      "metadata": {
        "colab": {
          "base_uri": "https://localhost:8080/"
        },
        "id": "IGZnLo1Fe6mn",
        "outputId": "7faa9e0c-b17f-452b-f9d0-a8f78982b60b"
      },
      "execution_count": 18,
      "outputs": [
        {
          "output_type": "stream",
          "name": "stdout",
          "text": [
            "Masukkan nilai decimal (170.21) : 123.67\n",
            " (int) 123,\n",
            " (str) 123.67,\n",
            " (round) 124\n"
          ]
        }
      ]
    },
    {
      "cell_type": "markdown",
      "source": [
        "# Penugasan 6 - Operator Relasional"
      ],
      "metadata": {
        "id": "g5AcAdDKbOv3"
      }
    },
    {
      "cell_type": "code",
      "source": [
        "print(\"--- Program Perbandingan Dua Bilangan ---\")\n",
        "\n",
        "angka1 = 23\n",
        "angka2 = 75\n",
        "\n",
        "print(\"\\n--- Hasil Perbandingan ---\")\n",
        "\n",
        "print(f\"{angka1} == {angka2} adalah {angka1 == angka2}\")\n",
        "print(f\"{angka1} != {angka2} adalah {angka1 != angka2}\")\n",
        "print(f\"{angka1} < {angka2} adalah {angka1 < angka2}\")\n",
        "print(f\"{angka1} > {angka2} adalah {angka1 > angka2}\")\n",
        "print(f\"{angka1} <= {angka2} adalah {angka1 <= angka2}\")\n",
        "print(f\"{angka1} >= {angka2} adalah {angka1 >= angka2}\")\n"
      ],
      "metadata": {
        "colab": {
          "base_uri": "https://localhost:8080/"
        },
        "id": "q-8UhuBEbEdG",
        "outputId": "b9cf9bcc-844c-4d25-98e5-fff94a56bb92"
      },
      "execution_count": 20,
      "outputs": [
        {
          "output_type": "stream",
          "name": "stdout",
          "text": [
            "--- Program Perbandingan Dua Bilangan ---\n",
            "\n",
            "--- Hasil Perbandingan ---\n",
            "23 == 75 adalah False\n",
            "23 != 75 adalah True\n",
            "23 < 75 adalah True\n",
            "23 > 75 adalah False\n",
            "23 <= 75 adalah True\n",
            "23 >= 75 adalah False\n"
          ]
        }
      ]
    },
    {
      "cell_type": "code",
      "source": [
        "\n"
      ],
      "metadata": {
        "id": "phh4AK0BgoqB"
      },
      "execution_count": null,
      "outputs": []
    }
  ]
}