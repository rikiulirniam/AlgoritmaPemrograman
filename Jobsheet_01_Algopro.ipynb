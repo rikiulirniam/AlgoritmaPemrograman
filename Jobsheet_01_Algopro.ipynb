{
  "nbformat": 4,
  "nbformat_minor": 0,
  "metadata": {
    "colab": {
      "provenance": [],
      "authorship_tag": "ABX9TyNJVjt5m/S7oJdXs4VFgyfZ",
      "include_colab_link": true
    },
    "kernelspec": {
      "name": "python3",
      "display_name": "Python 3"
    },
    "language_info": {
      "name": "python"
    }
  },
  "cells": [
    {
      "cell_type": "markdown",
      "metadata": {
        "id": "view-in-github",
        "colab_type": "text"
      },
      "source": [
        "<a href=\"https://colab.research.google.com/github/rikiulirniam/AlgoritmaPemrograman/blob/main/Jobsheet_01_Algopro.ipynb\" target=\"_parent\"><img src=\"https://colab.research.google.com/assets/colab-badge.svg\" alt=\"Open In Colab\"/></a>"
      ]
    },
    {
      "cell_type": "markdown",
      "source": [
        "# Praktikum 01 - Menghitung Luas Persegi Panjang"
      ],
      "metadata": {
        "id": "Y6Xo39l26rQK"
      }
    },
    {
      "cell_type": "code",
      "execution_count": null,
      "metadata": {
        "colab": {
          "base_uri": "https://localhost:8080/"
        },
        "id": "iXkr74wL6nwS",
        "outputId": "5d478257-52de-4133-eac3-ab1ad2dc05ec"
      },
      "outputs": [
        {
          "output_type": "stream",
          "name": "stdout",
          "text": [
            "Masukkan panjang : 20\n",
            "Masukkan lebar :12\n",
            "Luas Persegi panjang : 240\n"
          ]
        }
      ],
      "source": [
        "p = int(input(\"Masukkan panjang : \"))\n",
        "l = int(input(\"Masukkan lebar :\"))\n",
        "luas = p * l\n",
        "print(\"Luas Persegi panjang :\", luas)"
      ]
    },
    {
      "cell_type": "markdown",
      "source": [
        "# Praktikum 02 - Menghitung Luas Segitiga (Rumus Heron)\n"
      ],
      "metadata": {
        "id": "1auTlCl79NE7"
      }
    },
    {
      "cell_type": "code",
      "source": [
        "import math\n",
        "\n",
        "a = float(input(\"Masukkan sisi a : \"))\n",
        "b = float(input(\"Masukkan sisi b : \"))\n",
        "c = float(input(\"Masukkan sisi c : \"))\n",
        "\n",
        "s = (a+b+c) / 2\n",
        "luas = math.sqrt(s*(s-a)*(s-b)*(s-c))\n",
        "\n",
        "print(f\"Luas Segitiga : {luas}\")"
      ],
      "metadata": {
        "colab": {
          "base_uri": "https://localhost:8080/"
        },
        "id": "yzonwMQX9a8s",
        "outputId": "0ad794ab-3db8-4dda-fa76-e18aaa3961d9"
      },
      "execution_count": null,
      "outputs": [
        {
          "output_type": "stream",
          "name": "stdout",
          "text": [
            "Masukkan sisi a : 24\n",
            "Masukkan sisi b : 12\n",
            "Masukkan sisi c : 32\n",
            "Luas Segitiga : 122.31107881136525\n"
          ]
        }
      ]
    },
    {
      "cell_type": "markdown",
      "source": [
        "# Praktikum 03 - Konversi Suhu Celsius ke Fahrenheit"
      ],
      "metadata": {
        "id": "dbHS_BZg_3b0"
      }
    },
    {
      "cell_type": "code",
      "source": [
        "c=float(input(\"Masukkan suhu (C) :\"))\n",
        "f = (c*9/5)+32\n",
        "print(\"Hasil konversi =\",f,\"F\")\n"
      ],
      "metadata": {
        "colab": {
          "base_uri": "https://localhost:8080/"
        },
        "id": "tnP6mGZHAB3r",
        "outputId": "252cadb4-5999-4174-aa92-510c28b60f06"
      },
      "execution_count": null,
      "outputs": [
        {
          "output_type": "stream",
          "name": "stdout",
          "text": [
            "Masukkan suhu (C) :57\n",
            "Hasil konversi = 134.6 F\n"
          ]
        }
      ]
    },
    {
      "cell_type": "markdown",
      "source": [
        "# Praktikum 04 - Menghitung Umur berdasarkan Tahun Lahir"
      ],
      "metadata": {
        "id": "pID9jwOMAedT"
      }
    },
    {
      "cell_type": "code",
      "source": [
        "tahun_lahir = int(input(\"Masukkan tanggal lahir : \"))\n",
        "tahun_sekarang = 2025\n",
        "umur = tahun_sekarang - tahun_lahir\n",
        "print(f\"Umur anda = {umur} tahun\")"
      ],
      "metadata": {
        "colab": {
          "base_uri": "https://localhost:8080/"
        },
        "id": "07cWTgIDAlCp",
        "outputId": "2de6d443-e936-4c39-dc31-ee47ad9b5f1d"
      },
      "execution_count": null,
      "outputs": [
        {
          "output_type": "stream",
          "name": "stdout",
          "text": [
            "Masukkan tanggal lahir : 2007\n",
            "Umur anda = 18 tahun\n"
          ]
        }
      ]
    },
    {
      "cell_type": "markdown",
      "source": [
        "# Praktikum 05 - Menghitung luas lingkaran"
      ],
      "metadata": {
        "id": "FNBvh-rCA_4H"
      }
    },
    {
      "cell_type": "code",
      "source": [
        "import math\n",
        "\n",
        "r = float(input(\"Masukkan jari-jari lingkaran :\"))\n",
        "luas = math.pi * (r * r)\n",
        "print(f\"Luas lingkaran : {luas}\")"
      ],
      "metadata": {
        "colab": {
          "base_uri": "https://localhost:8080/"
        },
        "id": "UlWa3cKYBIZG",
        "outputId": "fee401f9-4429-47d2-bd63-b0b224806023"
      },
      "execution_count": null,
      "outputs": [
        {
          "output_type": "stream",
          "name": "stdout",
          "text": [
            "Masukkan jari-jari lingkaran :17\n",
            "Luas lingkaran : 907.9202768874502\n"
          ]
        }
      ]
    },
    {
      "cell_type": "markdown",
      "source": [
        "# Praktikum 06 - Menjumlahkan Tiga Bilangan"
      ],
      "metadata": {
        "id": "fv5_3_63Bt9k"
      }
    },
    {
      "cell_type": "code",
      "source": [
        "a = int(input(\"Masukkan bilangan pertama : \"))\n",
        "b = int(input(\"Masukkan bilangan kedua : \"))\n",
        "c = int(input(\"Masukkan bilangan ketiga : \"))\n",
        "\n",
        "jumlah = a + b + c\n",
        "\n",
        "print(f\"Jumlah : {jumlah 2}\")"
      ],
      "metadata": {
        "colab": {
          "base_uri": "https://localhost:8080/"
        },
        "id": "Vny6ttOmCmwS",
        "outputId": "fb65dc22-b20a-4632-e1a0-81f0c7ec8ac1"
      },
      "execution_count": null,
      "outputs": [
        {
          "output_type": "stream",
          "name": "stdout",
          "text": [
            "Masukkan bilangan pertama : 34\n",
            "Masukkan bilangan kedua : 3\n",
            "Masukkan bilangan ketiga : 56\n",
            "Jumlah : 93\n"
          ]
        }
      ]
    },
    {
      "cell_type": "markdown",
      "source": [
        "# Penugasan No.3"
      ],
      "metadata": {
        "id": "CxXdXI_P8XJp"
      }
    },
    {
      "cell_type": "code",
      "source": [
        "p = int(input(\"Masukan panjang :\"))\n",
        "l = int(input(\"Masukan lebar :\"))\n",
        "t = int(input(\"Masukkan tinggi\"))\n",
        "\n",
        "volume = p*l*t\n",
        "print(f\"Volume : {volume}\")"
      ],
      "metadata": {
        "colab": {
          "base_uri": "https://localhost:8080/"
        },
        "id": "W2kNPZ3e8cS7",
        "outputId": "96c192a9-f0e5-4427-9676-40a06cbe514f"
      },
      "execution_count": 1,
      "outputs": [
        {
          "output_type": "stream",
          "name": "stdout",
          "text": [
            "Masukan panjang :10\n",
            "Masukan lebar :20\n",
            "Masukkan tinggi30\n",
            "Volume : 6000\n"
          ]
        }
      ]
    },
    {
      "cell_type": "markdown",
      "source": [
        "# Penugasan No.4"
      ],
      "metadata": {
        "id": "VV_7wQNgYx9f"
      }
    },
    {
      "cell_type": "code",
      "source": [
        "detik = int(input(\"Masukkan detik : \"))\n",
        "menit = 0\n",
        "jam = 0\n",
        "jam += detik // 3600\n",
        "detik %= 3600\n",
        "menit += detik // 60\n",
        "detik %= 60\n",
        "print(f\"{jam} Jam {menit} Menit {detik} Detik\")\n"
      ],
      "metadata": {
        "colab": {
          "base_uri": "https://localhost:8080/"
        },
        "id": "QaIqdH-YY1za",
        "outputId": "04c223cd-f8c8-400c-ca1b-419e438f3a01"
      },
      "execution_count": 2,
      "outputs": [
        {
          "output_type": "stream",
          "name": "stdout",
          "text": [
            "Masukkan detik : 723984\n",
            "201 Jam 6 Menit 24 Detik\n"
          ]
        }
      ]
    },
    {
      "cell_type": "markdown",
      "source": [
        "# Penugasan No.5"
      ],
      "metadata": {
        "id": "u_D7W9o-cxYB"
      }
    },
    {
      "cell_type": "code",
      "source": [
        "n1 = int(input(\"Masukkan nilai pertama :\"))\n",
        "n2 = int(input(\"Masukkan nilai kedua :\"))\n",
        "n3 = int(input(\"Masukkan nilai ketiga :\"))\n",
        "avg = (n1+n2+n3)/3\n",
        "if avg >= 60:\n",
        "  print(f\"Lulus dengan rata-rata {avg}\")\n",
        "else:\n",
        "  print(f\"Tidak Lulus dengan rata-rata {avg}\")"
      ],
      "metadata": {
        "colab": {
          "base_uri": "https://localhost:8080/"
        },
        "id": "6v-RzL3Xc2CS",
        "outputId": "bd094673-6482-40ca-f80f-db4e1784288a"
      },
      "execution_count": 16,
      "outputs": [
        {
          "output_type": "stream",
          "name": "stdout",
          "text": [
            "Masukkan nilai pertama :67\n",
            "Masukkan nilai kedua :78\n",
            "Masukkan nilai ketiga :76\n",
            "Lulus dengan rata-rata 73.66666666666667\n"
          ]
        }
      ]
    },
    {
      "cell_type": "markdown",
      "source": [
        "# Penugasan No.6\n"
      ],
      "metadata": {
        "id": "7rH6L94UgPjP"
      }
    },
    {
      "cell_type": "code",
      "source": [
        "belanja = int(input(\"Masukkan total belanja : \"))\n",
        "if belanja >= 500000:\n",
        "  belanja -= belanja * 0.2\n",
        "elif  belanja >= 200000:\n",
        "  belanja -= belanja * 0.1\n",
        "print(f\"Total belanja : {int(belanja)}\")"
      ],
      "metadata": {
        "colab": {
          "base_uri": "https://localhost:8080/"
        },
        "id": "wmVXHWV3gR4v",
        "outputId": "63a7daed-635d-4a2b-eb8f-d2f29229b86b"
      },
      "execution_count": 15,
      "outputs": [
        {
          "output_type": "stream",
          "name": "stdout",
          "text": [
            "Masukkan total belanja : 199000\n",
            "Total belanja : 199000\n"
          ]
        }
      ]
    }
  ]
}