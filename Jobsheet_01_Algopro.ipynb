{
  "nbformat": 4,
  "nbformat_minor": 0,
  "metadata": {
    "colab": {
      "provenance": [],
      "authorship_tag": "ABX9TyP/51XMgtax1RBeEa/L55KK",
      "include_colab_link": true
    },
    "kernelspec": {
      "name": "python3",
      "display_name": "Python 3"
    },
    "language_info": {
      "name": "python"
    }
  },
  "cells": [
    {
      "cell_type": "markdown",
      "metadata": {
        "id": "view-in-github",
        "colab_type": "text"
      },
      "source": [
        "<a href=\"https://colab.research.google.com/github/rikiulirniam/AlgoritmaPemrograman/blob/main/Jobsheet_01_Algopro.ipynb\" target=\"_parent\"><img src=\"https://colab.research.google.com/assets/colab-badge.svg\" alt=\"Open In Colab\"/></a>"
      ]
    },
    {
      "cell_type": "markdown",
      "source": [
        "# Praktikum 1 - Menghitung Luas Persegi Panjang"
      ],
      "metadata": {
        "id": "Y6Xo39l26rQK"
      }
    },
    {
      "cell_type": "code",
      "execution_count": null,
      "metadata": {
        "colab": {
          "base_uri": "https://localhost:8080/"
        },
        "id": "iXkr74wL6nwS",
        "outputId": "5d478257-52de-4133-eac3-ab1ad2dc05ec"
      },
      "outputs": [
        {
          "output_type": "stream",
          "name": "stdout",
          "text": [
            "Masukkan panjang : 20\n",
            "Masukkan lebar :12\n",
            "Luas Persegi panjang : 240\n"
          ]
        }
      ],
      "source": [
        "p = int(input(\"Masukkan panjang : \"))\n",
        "l = int(input(\"Masukkan lebar :\"))\n",
        "luas = p * l\n",
        "print(\"Luas Persegi panjang :\", luas)"
      ]
    },
    {
      "cell_type": "markdown",
      "source": [
        "# Praktikum 02 - Menghitung Luas Segitiga (Rumus Heron)\n"
      ],
      "metadata": {
        "id": "1auTlCl79NE7"
      }
    },
    {
      "cell_type": "code",
      "source": [
        "import math\n",
        "\n",
        "a = float(input(\"Masukkan sisi a : \"))\n",
        "b = float(input(\"Masukkan sisi b : \"))\n",
        "c = float(input(\"Masukkan sisi c : \"))\n",
        "\n",
        "s = (a+b+c) / 2\n",
        "luas = math.sqrt(s*(s-a)*(s-b)*(s-c))\n",
        "\n",
        "print(f\"Luas Segitiga : {luas}\")"
      ],
      "metadata": {
        "colab": {
          "base_uri": "https://localhost:8080/"
        },
        "id": "yzonwMQX9a8s",
        "outputId": "0ad794ab-3db8-4dda-fa76-e18aaa3961d9"
      },
      "execution_count": null,
      "outputs": [
        {
          "output_type": "stream",
          "name": "stdout",
          "text": [
            "Masukkan sisi a : 24\n",
            "Masukkan sisi b : 12\n",
            "Masukkan sisi c : 32\n",
            "Luas Segitiga : 122.31107881136525\n"
          ]
        }
      ]
    }
  ]
}