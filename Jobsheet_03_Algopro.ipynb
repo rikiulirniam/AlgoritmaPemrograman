{
  "nbformat": 4,
  "nbformat_minor": 0,
  "metadata": {
    "colab": {
      "provenance": [],
      "toc_visible": true,
      "authorship_tag": "ABX9TyOsSrkO+ZEXxSOi6L8ek8kZ",
      "include_colab_link": true
    },
    "kernelspec": {
      "name": "python3",
      "display_name": "Python 3"
    },
    "language_info": {
      "name": "python"
    }
  },
  "cells": [
    {
      "cell_type": "markdown",
      "metadata": {
        "id": "view-in-github",
        "colab_type": "text"
      },
      "source": [
        "<a href=\"https://colab.research.google.com/github/rikiulirniam/AlgoritmaPemrograman/blob/new/Jobsheet_03_Algopro.ipynb\" target=\"_parent\"><img src=\"https://colab.research.google.com/assets/colab-badge.svg\" alt=\"Open In Colab\"/></a>"
      ]
    },
    {
      "cell_type": "markdown",
      "source": [
        "# PRAKTIKUM"
      ],
      "metadata": {
        "id": "ewAiOxEIFpSW"
      }
    },
    {
      "cell_type": "markdown",
      "source": [
        "## Praktikum 01 – If Sederhana\n"
      ],
      "metadata": {
        "id": "aNFh6YlNrte_"
      }
    },
    {
      "cell_type": "code",
      "source": [
        "n = int(input(\"Masukkan nilai ujian: \"))\n",
        "if n >= 60:\n",
        "    print(\"Anda LULUS\")\n"
      ],
      "metadata": {
        "colab": {
          "base_uri": "https://localhost:8080/"
        },
        "id": "GMifg3UrW7br",
        "outputId": "192e9ef2-4469-444b-8c14-041c25c74e80"
      },
      "execution_count": null,
      "outputs": [
        {
          "output_type": "stream",
          "name": "stdout",
          "text": [
            "Masukkan nilai ujian: 70\n",
            "Anda LULUS\n"
          ]
        }
      ]
    },
    {
      "cell_type": "markdown",
      "source": [
        "## Praktikum 02 – If-Else"
      ],
      "metadata": {
        "id": "c3NVNAC8ru_m"
      }
    },
    {
      "cell_type": "code",
      "source": [
        "n = int(input(\"Masukkan nilai ujian: \"))\n",
        "if n >= 60:\n",
        "\tprint(\"Anda LULUS\")\n",
        "else:\n",
        "    print(\"Anda TIDAK LULUS\")\n"
      ],
      "metadata": {
        "colab": {
          "base_uri": "https://localhost:8080/"
        },
        "id": "Y_Qqf4ORYLJ7",
        "outputId": "fd345e57-a017-4d12-bc70-5c87ec813ab3"
      },
      "execution_count": null,
      "outputs": [
        {
          "output_type": "stream",
          "name": "stdout",
          "text": [
            "Masukkan nilai ujian: 50\n",
            "Anda TIDAK LULUS\n"
          ]
        }
      ]
    },
    {
      "cell_type": "markdown",
      "source": [
        "## Praktikum 03 – If-Elif-Else"
      ],
      "metadata": {
        "id": "IMUKzYqkruZ9"
      }
    },
    {
      "cell_type": "code",
      "source": [
        "nilai = int(input(\"Masukkan nilai akhir: \"))\n",
        "if nilai >= 85:\n",
        "    grade = \"A\"\n",
        "elif nilai >= 70:\n",
        "    grade = \"B\"\n",
        "elif nilai >= 55:\n",
        "    grade = \"C\"\n",
        "elif nilai >= 40:\n",
        "    grade = \"D\"\n",
        "else:\n",
        "    grade = \"E\"\n",
        "print(f\"Nilai Anda {nilai}, maka grade Anda = {grade}\")\n"
      ],
      "metadata": {
        "colab": {
          "base_uri": "https://localhost:8080/"
        },
        "id": "lcQZCvTlZM8L",
        "outputId": "dd31c013-fc5f-4acb-c93d-060fab1fd6ca"
      },
      "execution_count": null,
      "outputs": [
        {
          "output_type": "stream",
          "name": "stdout",
          "text": [
            "Masukkan nilai akhir: 78\n",
            "Nilai Anda 78, maka grade Anda = B\n"
          ]
        }
      ]
    },
    {
      "cell_type": "markdown",
      "source": [
        "## Praktikum 04 – Nested If"
      ],
      "metadata": {
        "id": "uLHC8EoWruG8"
      }
    },
    {
      "cell_type": "code",
      "source": [
        "ipk = float(input(\"Masukkan IPK: \"))\n",
        "sks = int(input(\"Masukkan jumlah SKS: \"))\n",
        "if ipk >= 3.0:\n",
        "    if sks >= 18:\n",
        "        print(\"Anda LAYAK mendapat beasiswa\")\n",
        "    else:\n",
        "        print(\"IPK memenuhi, tapi SKS kurang\")\n",
        "else:\n",
        "    print(\"Anda TIDAK layak mendapat beasiswa\")\n"
      ],
      "metadata": {
        "colab": {
          "base_uri": "https://localhost:8080/"
        },
        "id": "oJg6PzEcZupA",
        "outputId": "f7e3b0be-9914-4a7a-eabc-513b36821ec7"
      },
      "execution_count": null,
      "outputs": [
        {
          "output_type": "stream",
          "name": "stdout",
          "text": [
            "Masukkan IPK: 2.8\n",
            "Masukkan jumlah SKS: 20\n",
            "Anda TIDAK layak mendapat beasiswa\n"
          ]
        }
      ]
    },
    {
      "cell_type": "markdown",
      "source": [
        "## Praktikum 05 – Match-Case"
      ],
      "metadata": {
        "id": "N0YoGz_srt9f"
      }
    },
    {
      "cell_type": "code",
      "source": [
        "menu = int(input(\"Pilih menu (1-3): \"))\n",
        "match menu:\n",
        "    case 1:\n",
        "        print(\"Anda memilih Nasi Goreng\")\n",
        "    case 2:\n",
        "        print(\"Anda memilih Mie Ayam\")\n",
        "    case 3:\n",
        "        print(\"Anda memilih Soto Ayam\")\n",
        "    case _:\n",
        "        print(\"Menu tidak tersedia\")\n"
      ],
      "metadata": {
        "colab": {
          "base_uri": "https://localhost:8080/"
        },
        "id": "3XiVAimFaP2b",
        "outputId": "d4767be1-51e9-43a4-f244-0feb3f1d46d2"
      },
      "execution_count": null,
      "outputs": [
        {
          "output_type": "stream",
          "name": "stdout",
          "text": [
            "Pilih menu (1-3): 9\n",
            "Menu tidak tersedia\n"
          ]
        }
      ]
    },
    {
      "cell_type": "markdown",
      "source": [
        "## Praktikum 06 – Studi Kasus: Program Kasir"
      ],
      "metadata": {
        "id": "bXfKpHmXrt04"
      }
    },
    {
      "cell_type": "code",
      "source": [
        "barang = input(\"Masukkan nama barang: \")\n",
        "harga = float(input(\"Masukkan harga barang: \"))\n",
        "jumlah = int(input(\"Masukkan jumlah barang: \"))\n",
        "\n",
        "total = harga * jumlah\n",
        "if total >= 500000:\n",
        "    diskon = 0.2\n",
        "elif total >= 250000:\n",
        "    diskon = 0.1\n",
        "else:\n",
        "    diskon = 0\n",
        "\n",
        "bayar = total - (total * diskon)\n",
        "\n",
        "print(\"\\n===== Struk Belanja =====\")\n",
        "print(f\"Barang : {barang}\")\n",
        "print(f\"Jumlah : {jumlah}\")\n",
        "print(f\"Total : Rp {total}\")\n",
        "print(f\"Diskon : {diskon*100}%\")\n",
        "print(f\"Bayar : Rp {bayar}\")"
      ],
      "metadata": {
        "colab": {
          "base_uri": "https://localhost:8080/"
        },
        "id": "3Gbs4p-oaedn",
        "outputId": "7689d5e4-f6c6-49d0-c847-9b11dbb74ead"
      },
      "execution_count": null,
      "outputs": [
        {
          "output_type": "stream",
          "name": "stdout",
          "text": [
            "Masukkan nama barang: Pulpen\n",
            "Masukkan harga barang: 5000\n",
            "Masukkan jumlah barang: 10\n",
            "\n",
            "===== Struk Belanja =====\n",
            "Barang : Pulpen\n",
            "Jumlah : 10\n",
            "Total : Rp 50000.0\n",
            "Diskon : 0%\n",
            "Bayar : Rp 50000.0\n"
          ]
        }
      ]
    },
    {
      "cell_type": "markdown",
      "source": [
        "# PENUGASAN"
      ],
      "metadata": {
        "id": "Qqs96SoGF7U6"
      }
    },
    {
      "cell_type": "markdown",
      "source": [
        "## Penugasan 3 - Cek Bilangan Positif/Negatif/Nol"
      ],
      "metadata": {
        "id": "ppmINavXJI8N"
      }
    },
    {
      "cell_type": "code",
      "source": [
        "i = int(input(\"Masukkan angka : \"))\n",
        "if i > 0 : print(f\"{i} adalah bilangan Positif\" )\n",
        "elif i < 0: print(f\"{i} adalah bilangan Negatif\" )\n",
        "else : print(f\"{i} adalah bilangan Nol\" )"
      ],
      "metadata": {
        "colab": {
          "base_uri": "https://localhost:8080/"
        },
        "id": "CeqeZXvHJcdU",
        "outputId": "dd43caac-cfca-4f08-fa9c-6f2ac6b3c1b0"
      },
      "execution_count": null,
      "outputs": [
        {
          "output_type": "stream",
          "name": "stdout",
          "text": [
            "Masukkan angka : 0\n",
            "0 adalah bilangan Nol\n"
          ]
        }
      ]
    },
    {
      "cell_type": "markdown",
      "source": [
        "## Penugasan 4 - Menentukan Kategori Usia\n",
        "\n"
      ],
      "metadata": {
        "id": "s138sV6lJS3n"
      }
    },
    {
      "cell_type": "code",
      "source": [
        "\n",
        "i = int(input(\"Masukkan umur : \"))\n",
        "if i < 5: print(\"Balita\")\n",
        "elif i > 4: print(\"Anak-anak\")\n",
        "elif i > 11 : print(\"Remaja\")\n",
        "elif i > 17 : print(\"Dewasa\")\n",
        "elif i >= 60 : print(\"Lansia\")\n",
        "else : print(\"Umur tidak valid\")\n"
      ],
      "metadata": {
        "id": "SKGX0ek3Kcne"
      },
      "execution_count": null,
      "outputs": []
    },
    {
      "cell_type": "markdown",
      "source": [
        "## Penugasan 5 - Hitung Tarif Parkir"
      ],
      "metadata": {
        "id": "yx4Cv2tCJY1Y"
      }
    },
    {
      "cell_type": "code",
      "source": [
        "h_a = 5000\n",
        "h_n = 2000\n",
        "res = 0\n",
        "jam = int(input(\"Masukkan jam parkir : \"))\n",
        "if jam > 2:\n",
        "    res+=2*h_a\n",
        "    res+=(jam-2)*h_n\n",
        "elif jam <= 2 and jam != 0:\n",
        "    res+=2*h_a\n",
        "else:\n",
        "    print(\"Jam parkir nol\")\n",
        "if res > 20000: res = 20000\n",
        "print(f\"Biaya parkir anda: {res}\")"
      ],
      "metadata": {
        "colab": {
          "base_uri": "https://localhost:8080/"
        },
        "id": "R6oY0aliJSO7",
        "outputId": "937788ed-e4bd-485c-da70-41f05a21ce0c"
      },
      "execution_count": null,
      "outputs": [
        {
          "output_type": "stream",
          "name": "stdout",
          "text": [
            "Masukkan jam parkir : 3\n",
            "Biaya parkir anda: 12000\n"
          ]
        }
      ]
    },
    {
      "cell_type": "markdown",
      "source": [
        "## Penugasan 6 - Cek Login Sederhana"
      ],
      "metadata": {
        "id": "36DRjRKsfYos"
      }
    },
    {
      "cell_type": "code",
      "source": [
        "cred = {\"username\" : \"admin\", \"password\" : \"1234\"}\n",
        "usn = input(\"Masukkan username : \")\n",
        "pas = input(\"Masukkan password : \")\n",
        "if usn == cred[\"username\"] and pas == cred[\"password\"]:\n",
        "    print(\"Login Berhasil\")\n",
        "else:\n",
        "    print(\"Login Gagal\")"
      ],
      "metadata": {
        "colab": {
          "base_uri": "https://localhost:8080/"
        },
        "id": "t0tLxn6lfeqj",
        "outputId": "1f7db1bb-1fa6-4940-bfe6-7630eff64071"
      },
      "execution_count": null,
      "outputs": [
        {
          "output_type": "stream",
          "name": "stdout",
          "text": [
            "Masukkan username : admin\n",
            "Masukkan password : 1234\n",
            "Login Berhasil\n"
          ]
        }
      ]
    },
    {
      "cell_type": "markdown",
      "source": [
        "## Penugasan 7 - One-Liner If (Cek Genap/Ganjil)."
      ],
      "metadata": {
        "id": "w6MJMPSgmkyk"
      }
    },
    {
      "cell_type": "code",
      "source": [
        "number_input = int(input(\"Masukkan bilangan bulat : \"))\n",
        "print(f\"{number_input} adalah Genap\") if number_input % 2 == 0 else print(f\"{number_input} adalah Ganjil\")"
      ],
      "metadata": {
        "colab": {
          "base_uri": "https://localhost:8080/"
        },
        "id": "AQFijRwrsOqq",
        "outputId": "e9fda13f-a80a-42cf-ce19-7ad6acd282f4"
      },
      "execution_count": 35,
      "outputs": [
        {
          "output_type": "stream",
          "name": "stdout",
          "text": [
            "Masukkan bilangan bulat : 7\n",
            "7 adalah Ganjil\n"
          ]
        }
      ]
    },
    {
      "cell_type": "markdown",
      "source": [
        "## Penugasan 8 - Menu Restoran dengan Match case"
      ],
      "metadata": {
        "id": "50GZzAmSsgzT"
      }
    },
    {
      "cell_type": "code",
      "source": [
        "menu = int(input(\"Pilih menu (1-3): \"))\n",
        "match menu:\n",
        "    case 1:\n",
        "        print(\"Anda memilih Nasi Goreng\")\n",
        "    case 2:\n",
        "        print(\"Anda memilih Mie Ayam\")\n",
        "    case 3:\n",
        "        print(\"Anda memilih Soto Ayam\")\n",
        "    case _:\n",
        "        print(\"Menu tidak tersedia\")"
      ],
      "metadata": {
        "colab": {
          "base_uri": "https://localhost:8080/"
        },
        "id": "I8j0nWCmsqAb",
        "outputId": "b4781e7c-6ba0-474f-c4ab-700ccb829e58"
      },
      "execution_count": 38,
      "outputs": [
        {
          "output_type": "stream",
          "name": "stdout",
          "text": [
            "Pilih menu (1-3): 6\n",
            "Menu tidak tersedia\n"
          ]
        }
      ]
    },
    {
      "cell_type": "markdown",
      "source": [
        "## Penugasan 9 - Studi Kasus Nyata – Program Penentuan Diskon\n",
        "\n"
      ],
      "metadata": {
        "id": "rzaliL7VuCoJ"
      }
    },
    {
      "cell_type": "code",
      "source": [
        "nm_brg = input(\"Masukkan nama barang : \")\n",
        "jumlah = int(input(\"Masukkan jumlah barang : \"))\n",
        "harga = int(input(\"Masukkan harga barang : \"))\n",
        "total = jumlah * harga\n",
        "if(total >= 500000):\n",
        "    diskon = 0.2\n",
        "elif(total >= 250000):\n",
        "    diskon = 0.1\n",
        "else:\n",
        "    diskon = 0\n",
        "bayar = total - (total * diskon)\n",
        "\n",
        "print(f\"\"\"\n",
        "===== Struk Belanja =====\n",
        "Barang : {nm_brg}\n",
        "Jumlah : {jumlah}\n",
        "Total : Rp {total}\n",
        "Diskon : {diskon*100}%\n",
        "Bayar : Rp {bayar}\n",
        " \"\"\")"
      ],
      "metadata": {
        "colab": {
          "base_uri": "https://localhost:8080/"
        },
        "id": "kBCCkSinuHo6",
        "outputId": "46f50e24-cfcd-4e87-d309-98f08f449616"
      },
      "execution_count": 40,
      "outputs": [
        {
          "output_type": "stream",
          "name": "stdout",
          "text": [
            "Masukkan nama barang : Botol\n",
            "Masukkan jumlah barang : 78000\n",
            "Masukkan harga barang : 5\n",
            " \n",
            "===== Struk Belanja =====\n",
            "Barang : Botol\n",
            "Jumlah : 78000\n",
            "Total : Rp 390000\n",
            "Diskon : 10.0%\n",
            "Bayar : Rp 351000.0\n",
            " \n"
          ]
        }
      ]
    }
  ]
}