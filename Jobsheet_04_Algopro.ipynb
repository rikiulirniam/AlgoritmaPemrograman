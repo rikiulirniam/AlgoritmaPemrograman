{
  "nbformat": 4,
  "nbformat_minor": 0,
  "metadata": {
    "colab": {
      "provenance": [],
      "authorship_tag": "ABX9TyPCzSqPrMDfm8swuwWkKCBh",
      "include_colab_link": true
    },
    "kernelspec": {
      "name": "python3",
      "display_name": "Python 3"
    },
    "language_info": {
      "name": "python"
    }
  },
  "cells": [
    {
      "cell_type": "markdown",
      "metadata": {
        "id": "view-in-github",
        "colab_type": "text"
      },
      "source": [
        "<a href=\"https://colab.research.google.com/github/rikiulirniam/AlgoritmaPemrograman/blob/main/Jobsheet_04_Algopro.ipynb\" target=\"_parent\"><img src=\"https://colab.research.google.com/assets/colab-badge.svg\" alt=\"Open In Colab\"/></a>"
      ]
    },
    {
      "cell_type": "markdown",
      "source": [
        "# Praktikum\n"
      ],
      "metadata": {
        "id": "TEnBS_WGkqru"
      }
    },
    {
      "cell_type": "markdown",
      "source": [
        "## Praktikum 01 – Perulangan For dengan Range"
      ],
      "metadata": {
        "id": "UdHd6LBHSbtT"
      }
    },
    {
      "cell_type": "code",
      "source": [
        "for i in range(1,6): print(i)"
      ],
      "metadata": {
        "colab": {
          "base_uri": "https://localhost:8080/"
        },
        "id": "df-TUQkDV45V",
        "outputId": "fb27d868-3e8f-43cc-eed1-284d9cb3e134"
      },
      "execution_count": 2,
      "outputs": [
        {
          "output_type": "stream",
          "name": "stdout",
          "text": [
            "1\n",
            "2\n",
            "3\n",
            "4\n",
            "5\n"
          ]
        }
      ]
    },
    {
      "cell_type": "markdown",
      "source": [
        "## Praktikum 02 – Perulangan While"
      ],
      "metadata": {
        "id": "btorZtyTSb0s"
      }
    },
    {
      "cell_type": "code",
      "source": [
        "n = int(input(\"Masukkan angka : \"))\n",
        "while n > 0:\n",
        "    print(n)\n",
        "    n -= 1"
      ],
      "metadata": {
        "colab": {
          "base_uri": "https://localhost:8080/"
        },
        "id": "CYYW__HXWMvL",
        "outputId": "9038558a-1892-44bf-c1cd-3a07119786e0"
      },
      "execution_count": null,
      "outputs": [
        {
          "output_type": "stream",
          "name": "stdout",
          "text": [
            "Masukkan angka : 5\n",
            "5\n",
            "4\n",
            "3\n",
            "2\n",
            "1\n"
          ]
        }
      ]
    },
    {
      "cell_type": "markdown",
      "source": [
        "## Praktikum 03 – Nested Loop (Segitiga Bintang)"
      ],
      "metadata": {
        "id": "vzXnTli_Sb9L"
      }
    },
    {
      "cell_type": "code",
      "source": [
        "    for i in range(1,5):\n",
        "        for j in range(i):\n",
        "            print(\"*\", end=\"\")\n",
        "        print()"
      ],
      "metadata": {
        "colab": {
          "base_uri": "https://localhost:8080/"
        },
        "id": "EZYNK0eqWadI",
        "outputId": "9f1b3f34-16a9-40b6-ae8c-336774ee74c4"
      },
      "execution_count": 1,
      "outputs": [
        {
          "output_type": "stream",
          "name": "stdout",
          "text": [
            "*\n",
            "**\n",
            "***\n",
            "****\n",
            "*****\n"
          ]
        }
      ]
    },
    {
      "cell_type": "markdown",
      "source": [
        "## Praktikum 04 – Break dan Continue"
      ],
      "metadata": {
        "id": "wqgWLVR0ScGb"
      }
    },
    {
      "cell_type": "code",
      "source": [
        " for i in range(1, 11):\n",
        "\tif i == 5:\n",
        "\t    print(\"Angka 5 ditemukan\")\n",
        "\t    break\n",
        "\n"
      ],
      "metadata": {
        "id": "9ltPYqiKik6S",
        "colab": {
          "base_uri": "https://localhost:8080/"
        },
        "outputId": "c349fde8-1c23-49bd-cfc5-dadf73b7e507"
      },
      "execution_count": 2,
      "outputs": [
        {
          "output_type": "stream",
          "name": "stdout",
          "text": [
            "Angka 5 ditemukan\n"
          ]
        }
      ]
    },
    {
      "cell_type": "code",
      "source": [
        "for i in range(1, 6):\n",
        "\tif i % 2 == 1:\n",
        "\t    continue\n",
        "\tprint(i)\n",
        "\n"
      ],
      "metadata": {
        "colab": {
          "base_uri": "https://localhost:8080/"
        },
        "id": "QzWn0qjZ3-YV",
        "outputId": "335c8a55-d493-432e-d98b-591d502477f1"
      },
      "execution_count": 3,
      "outputs": [
        {
          "output_type": "stream",
          "name": "stdout",
          "text": [
            "2\n",
            "4\n"
          ]
        }
      ]
    },
    {
      "cell_type": "markdown",
      "source": [
        "## Praktikum 05 – For pada Dictionary"
      ],
      "metadata": {
        "id": "rkW0EL1qScTq"
      }
    },
    {
      "cell_type": "code",
      "source": [
        "data = {\"Nama\": \"Andi\", \"Umur\": 20, \"Prodi\": \"TRK\"}\n",
        "for k, v in data.items():\n",
        "    print(k, \":\", v)\n"
      ],
      "metadata": {
        "id": "uCxVFh1v4c5N",
        "colab": {
          "base_uri": "https://localhost:8080/"
        },
        "outputId": "80230ae8-8e9c-439d-e230-85b954df6424"
      },
      "execution_count": 4,
      "outputs": [
        {
          "output_type": "stream",
          "name": "stdout",
          "text": [
            "Nama : Andi\n",
            "Umur : 20\n",
            "Prodi : TRK\n"
          ]
        }
      ]
    },
    {
      "cell_type": "markdown",
      "source": [
        "## Praktikum 06 – For dengan Enumerate"
      ],
      "metadata": {
        "id": "njtBALODScXH"
      }
    },
    {
      "cell_type": "code",
      "source": [
        " daftar = [\"Andi\", \"Budi\", \"Cici\"]\n",
        " for i, nama in enumerate(daftar, start=1):\n",
        "\tprint(i, nama)\n",
        "\n"
      ],
      "metadata": {
        "colab": {
          "base_uri": "https://localhost:8080/"
        },
        "id": "gXvPxzW14l9F",
        "outputId": "7f535a2e-5c37-4193-bcea-7d67148e21e5"
      },
      "execution_count": 5,
      "outputs": [
        {
          "output_type": "stream",
          "name": "stdout",
          "text": [
            "1 Andi\n",
            "2 Budi\n",
            "3 Cici\n"
          ]
        }
      ]
    },
    {
      "cell_type": "markdown",
      "source": [
        "## Praktikum 07 – Studi Kasus: Program Kasir Multi-Item"
      ],
      "metadata": {
        "id": "N9H9XXebTG4T"
      }
    },
    {
      "cell_type": "code",
      "source": [
        "total = 0\n",
        "while True:\n",
        "    barang = input(\"Masukkan nama barang (ketik 'selesai' untuk berhenti) : \")\n",
        "    if barang.lower() == \"selesai\":\n",
        "        break\n",
        "    harga = float(input(f\"Masukkan harga {barang}: \"))\n",
        "    jumlah = int(input(f\"Masukkan jumlah {barang}: \"))\n",
        "    subtotal = harga * jumlah\n",
        "    total += subtotal\n",
        "print(\"\\n===== Struk Belanja =====\")\n",
        "print(f\"Total Belanja : Rp {total}\")"
      ],
      "metadata": {
        "colab": {
          "base_uri": "https://localhost:8080/"
        },
        "id": "udwfBjza5Gn9",
        "outputId": "a4d668c5-bb0a-4c1a-dab5-6fac1b0406e2"
      },
      "execution_count": 6,
      "outputs": [
        {
          "output_type": "stream",
          "name": "stdout",
          "text": [
            "Masukkan nama barang (ketik 'selesai' untuk berhenti) : Buku\n",
            "Masukkan harga Buku: 50000\n",
            "Masukkan jumlah Buku: 2\n",
            "Masukkan nama barang (ketik 'selesai' untuk berhenti) : Pulpen\n",
            "Masukkan harga Pulpen: 5000\n",
            "Masukkan jumlah Pulpen: 3\n",
            "Masukkan nama barang (ketik 'selesai' untuk berhenti) : selesai\n",
            "\n",
            "===== Struk Belanja =====\n",
            "Total Belanja : Rp 115000.0\n"
          ]
        }
      ]
    },
    {
      "cell_type": "markdown",
      "source": [
        "# Penugasan\n"
      ],
      "metadata": {
        "id": "98mzVdhrkxUI"
      }
    },
    {
      "cell_type": "markdown",
      "source": [
        "## Menampilkan Deret Angka\n"
      ],
      "metadata": {
        "id": "8MG7x8xKk1MJ"
      }
    },
    {
      "cell_type": "code",
      "source": [
        "for i in range(3,31,3):\n",
        "    print(i)"
      ],
      "metadata": {
        "colab": {
          "base_uri": "https://localhost:8080/"
        },
        "id": "UN5RZkmnlfpd",
        "outputId": "3078e061-aa81-4b5d-8563-95285c500dc9"
      },
      "execution_count": 7,
      "outputs": [
        {
          "output_type": "stream",
          "name": "stdout",
          "text": [
            "3\n",
            "6\n",
            "9\n",
            "12\n",
            "15\n",
            "18\n",
            "21\n",
            "24\n",
            "27\n",
            "30\n"
          ]
        }
      ]
    },
    {
      "cell_type": "markdown",
      "source": [
        "## Hitung Faktorial"
      ],
      "metadata": {
        "id": "KbXAq-bXlCex"
      }
    },
    {
      "cell_type": "code",
      "source": [
        "n = int(input(\"Masukkan angka : \"))\n",
        "res = n\n",
        "while n > 1:\n",
        "    res *=  n-1\n",
        "    n -= 1\n",
        "print(res)"
      ],
      "metadata": {
        "colab": {
          "base_uri": "https://localhost:8080/"
        },
        "id": "rERCiWDglqNp",
        "outputId": "212de6ac-c14a-4f3c-dd55-9326d8d17597"
      },
      "execution_count": 16,
      "outputs": [
        {
          "output_type": "stream",
          "name": "stdout",
          "text": [
            "Masukkan angka : 5\n",
            "120\n"
          ]
        }
      ]
    },
    {
      "cell_type": "markdown",
      "source": [
        "## Pola Segitiga Terbalik"
      ],
      "metadata": {
        "id": "qCZsVksBlJFD"
      }
    },
    {
      "cell_type": "code",
      "source": [
        "for i in range(5, -1, -1):\n",
        "    for j in range(i):\n",
        "        print(\"*\", end=\"\")\n",
        "    print()"
      ],
      "metadata": {
        "colab": {
          "base_uri": "https://localhost:8080/"
        },
        "id": "DDUlhtsQneKq",
        "outputId": "db1b226b-6b6a-4098-9318-9f73d19e4b27"
      },
      "execution_count": 20,
      "outputs": [
        {
          "output_type": "stream",
          "name": "stdout",
          "text": [
            "*****\n",
            "****\n",
            "***\n",
            "**\n",
            "*\n",
            "\n"
          ]
        }
      ]
    },
    {
      "cell_type": "markdown",
      "source": [
        "## Cari Bilangan Prima dengan Break"
      ],
      "metadata": {
        "id": "G2ADCUXRlNwQ"
      }
    },
    {
      "cell_type": "code",
      "source": [
        "n = int(input(\"Masukkan bilangan bulat : \"))\n",
        "\n",
        "if n <= 1:\n",
        "    print(f\"{n} bukan bilangan prima\")\n",
        "else:\n",
        "    for i in range(2, n):\n",
        "        if n % i == 0:\n",
        "            print(f\"{n} bukan bilangan prima\")\n",
        "            break\n",
        "    else:\n",
        "        print(f\"{n} adalah bilangan prima\")\n"
      ],
      "metadata": {
        "colab": {
          "base_uri": "https://localhost:8080/"
        },
        "id": "SG9oOsBAorZR",
        "outputId": "ef846689-cec3-4450-8eef-eb42e89e9115"
      },
      "execution_count": 35,
      "outputs": [
        {
          "output_type": "stream",
          "name": "stdout",
          "text": [
            "Masukkan bilangan bulat : 0\n",
            "0 bukan bilangan prima\n"
          ]
        }
      ]
    },
    {
      "cell_type": "markdown",
      "source": [
        "## Tampilkan Hanya Bilangan Genap dengan Continue"
      ],
      "metadata": {
        "id": "yq8R-qm1lRGL"
      }
    },
    {
      "cell_type": "code",
      "source": [
        "for i in range(1, 21):\n",
        "    if i % 2 != 0:\n",
        "        continue\n",
        "    print(i)"
      ],
      "metadata": {
        "colab": {
          "base_uri": "https://localhost:8080/"
        },
        "id": "n40iq9yZrt4H",
        "outputId": "99d4543b-6842-4cae-8558-2a424a2da19f"
      },
      "execution_count": 37,
      "outputs": [
        {
          "output_type": "stream",
          "name": "stdout",
          "text": [
            "2\n",
            "4\n",
            "6\n",
            "8\n",
            "10\n",
            "12\n",
            "14\n",
            "16\n",
            "18\n",
            "20\n"
          ]
        }
      ]
    },
    {
      "cell_type": "markdown",
      "source": [
        "## \tIterasi Dictionary Mahasiswa"
      ],
      "metadata": {
        "id": "adSBfifylVzh"
      }
    },
    {
      "cell_type": "code",
      "source": [
        "mahasiswa = {\"Nama\":\"Budi\", \"Umur\":21, \"Prodi\":\"Teknik Komputer\"}\n",
        "for i,j in mahasiswa.items():\n",
        "    print(f\"{i} : {j}\")"
      ],
      "metadata": {
        "colab": {
          "base_uri": "https://localhost:8080/"
        },
        "id": "OoXjLe9-sFC7",
        "outputId": "55667e6f-05c9-4f13-f5cc-d46370274c38"
      },
      "execution_count": 47,
      "outputs": [
        {
          "output_type": "stream",
          "name": "stdout",
          "text": [
            "Nama : Budi\n",
            "Umur : 21\n",
            "Prodi : Teknik Komputer\n"
          ]
        }
      ]
    },
    {
      "cell_type": "markdown",
      "source": [
        "##\tEnumerate Daftar Barang"
      ],
      "metadata": {
        "id": "X_LaMyXrlXlS"
      }
    },
    {
      "cell_type": "code",
      "source": [
        "item = [\"Buku\", \"Pulpen\", \"Tas\"]\n",
        "for i,j in enumerate(item, start=1):\n",
        "    print(f\"{i} {j}\")"
      ],
      "metadata": {
        "colab": {
          "base_uri": "https://localhost:8080/"
        },
        "id": "n0n1eDjdtYDg",
        "outputId": "a95e1a31-bc44-433f-a7d1-37f633647c61"
      },
      "execution_count": 49,
      "outputs": [
        {
          "output_type": "stream",
          "name": "stdout",
          "text": [
            "1 Buku\n",
            "2 Pulpen\n",
            "3 Tas\n"
          ]
        }
      ]
    },
    {
      "cell_type": "markdown",
      "source": [
        "## Studi Kasus – Kasir Diskon"
      ],
      "metadata": {
        "id": "6VyXlV20lbeh"
      }
    },
    {
      "cell_type": "code",
      "source": [
        "data = []\n",
        "total = 0\n",
        "while True:\n",
        "    obj = {}\n",
        "    obj[\"barang\"] = input(\"Masukkan nama barang (ketik 'selesai' untuk berhenti) : \")\n",
        "    if obj['barang'].lower() == \"selesai\":\n",
        "        break\n",
        "    obj[\"harga\"] = float(input(f\"Masukkan harga {obj['barang']} : \"))\n",
        "    obj[\"jumlah\"] = int(input(f\"Masukkan jumlah {obj['barang']} : \"))\n",
        "    obj[\"subtotal\"] = obj[\"harga\"] * obj[\"jumlah\"]\n",
        "    total += obj[\"subtotal\"]\n",
        "    data.append(obj)\n",
        "print(\"\\n===== Struk Belanja =====\")\n",
        "for _ in data:\n",
        "    print(f\"Barang          : {_['barang']}\")\n",
        "    print(f\"Harga           : {_['harga']}\")\n",
        "    print(f\"Jumlah          : {_['jumlah']}\")\n",
        "    print(f\"Subtotal        : {_['subtotal']}\")\n",
        "print(\"=========================\")\n",
        "print(f\"Total Belanja   : Rp {total}\")\n",
        "print(f\"Diskon(10%)     : Rp {total - total * 0.9}\")\n",
        "if total >= 200000:\n",
        "    total *= 0.9\n",
        "print(\"=========================\")\n",
        "print(f\"Total Bayar   : Rp {total}\")\n",
        ""
      ],
      "metadata": {
        "colab": {
          "base_uri": "https://localhost:8080/"
        },
        "id": "_3Yksx9WwiTH",
        "outputId": "fd5a3416-e663-49ea-a6be-4981b9e66159"
      },
      "execution_count": 66,
      "outputs": [
        {
          "output_type": "stream",
          "name": "stdout",
          "text": [
            "Masukkan nama barang (ketik 'selesai' untuk berhenti) : Ikan\n",
            "Masukkan harga Ikan : 8000\n",
            "Masukkan jumlah Ikan : 345\n",
            "Masukkan nama barang (ketik 'selesai' untuk berhenti) : udang\n",
            "Masukkan harga udang : 12000\n",
            "Masukkan jumlah udang : 237\n",
            "Masukkan nama barang (ketik 'selesai' untuk berhenti) : selesai\n",
            "\n",
            "===== Struk Belanja =====\n",
            "Barang          : Ikan\n",
            "Harga           : 8000.0\n",
            "Jumlah          : 345\n",
            "Subtotal        : 2760000.0\n",
            "Barang          : udang\n",
            "Harga           : 12000.0\n",
            "Jumlah          : 237\n",
            "Subtotal        : 2844000.0\n",
            "=========================\n",
            "Total Belanja   : Rp 5604000.0\n",
            "Diskon(10%)     : Rp 560400.0\n",
            "=========================\n",
            "Total Bayar   : Rp 5043600.0\n"
          ]
        }
      ]
    }
  ]
}